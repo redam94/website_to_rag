{
 "cells": [
  {
   "cell_type": "code",
   "execution_count": 1,
   "metadata": {},
   "outputs": [],
   "source": [
    "from __future__ import annotations as _annotations\n",
    "\n",
    "from website_to_rag.utils.webpage_extractor import WebPage, Section\n",
    "\n",
    "from typing import Set\n",
    "from dataclasses import dataclass, field\n",
    "\n",
    "from pydantic_graph import BaseNode, GraphRunContext, End, Graph\n",
    "from pydantic_ai import Agent, RunContext\n",
    "from pydantic_ai.messages import ModelMessage\n",
    "from pydantic_ai.models.openai import OpenAIModel\n",
    "from rich.prompt import Prompt\n",
    "\n",
    "import ollama\n",
    "\n",
    "from typing import Protocol"
   ]
  },
  {
   "cell_type": "code",
   "execution_count": 6,
   "metadata": {},
   "outputs": [],
   "source": [
    "model = OpenAIModel(model_name=\"qwen2.5:7b\", base_url=\"http://127.0.0.1:11434/v1/\")"
   ]
  },
  {
   "cell_type": "code",
   "execution_count": 8,
   "metadata": {},
   "outputs": [],
   "source": [
    "agent = Agent(model=model)"
   ]
  },
  {
   "cell_type": "code",
   "execution_count": 10,
   "metadata": {},
   "outputs": [
    {
     "name": "stderr",
     "output_type": "stream",
     "text": [
      "/var/folders/nw/92nd031j7p5d2bs8grpysp4w0000gn/T/ipykernel_50484/1434976519.py:1: LogfireNotConfiguredWarning: No logs or spans will be created until `logfire.configure()` has been called. Set the environment variable LOGFIRE_IGNORE_NO_CONFIG=1 or add ignore_no_config=true in pyproject.toml to suppress this warning.\n",
      "  test = await agent.run(\"What can you do?\")\n"
     ]
    },
    {
     "data": {
      "text/plain": [
       "RunResult(_all_messages=[ModelRequest(parts=[UserPromptPart(content='What can you do?', timestamp=datetime.datetime(2025, 2, 15, 16, 44, 1, 421506, tzinfo=datetime.timezone.utc), part_kind='user-prompt')], kind='request'), ModelResponse(parts=[TextPart(content='I can assist with various tasks and provide information on many topics. Here are some things I can help with:\\n\\n1. **General Knowledge**: Answer general questions about history, science, technology, culture, and more.\\n2. **Language Translation**: Translate text from one language to another.\\n3. **Mathematics**: Solve math problems ranging from simple arithmetic to advanced calculus.\\n4. **Creative Writing**: Assist with writing stories, articles, emails, scripts, and other creative works.\\n5. **Research**: Conduct research on a wide range of topics and provide summaries or detailed reports.\\n6. **Education Support**: Offer explanations and solutions for academic questions in subjects like biology, physics, economics, etc.\\n7. **Technical Assistance**: Provide guidance on software, programming languages (like Python, Java), and hardware issues.\\n8. **Calendar Management**: Help manage your schedule by adding appointments, setting reminders, or suggesting times for meetings.\\n9. **Email Creation and Scheduling**: Draft emails, proofread them, and help with the scheduling of sending.\\n10. **Game Advice**: Offer tips and strategies for various video games.\\n\\nLet me know how I can assist you specifically!', part_kind='text')], model_name='qwen2.5:7b', timestamp=datetime.datetime(2025, 2, 15, 16, 44, 26, tzinfo=datetime.timezone.utc), kind='response')], _new_message_index=0, data='I can assist with various tasks and provide information on many topics. Here are some things I can help with:\\n\\n1. **General Knowledge**: Answer general questions about history, science, technology, culture, and more.\\n2. **Language Translation**: Translate text from one language to another.\\n3. **Mathematics**: Solve math problems ranging from simple arithmetic to advanced calculus.\\n4. **Creative Writing**: Assist with writing stories, articles, emails, scripts, and other creative works.\\n5. **Research**: Conduct research on a wide range of topics and provide summaries or detailed reports.\\n6. **Education Support**: Offer explanations and solutions for academic questions in subjects like biology, physics, economics, etc.\\n7. **Technical Assistance**: Provide guidance on software, programming languages (like Python, Java), and hardware issues.\\n8. **Calendar Management**: Help manage your schedule by adding appointments, setting reminders, or suggesting times for meetings.\\n9. **Email Creation and Scheduling**: Draft emails, proofread them, and help with the scheduling of sending.\\n10. **Game Advice**: Offer tips and strategies for various video games.\\n\\nLet me know how I can assist you specifically!', _result_tool_name=None, _usage=Usage(requests=1, request_tokens=34, response_tokens=237, total_tokens=271, details=None))"
      ]
     },
     "execution_count": 10,
     "metadata": {},
     "output_type": "execute_result"
    }
   ],
   "source": [
    "test = await agent.run(\"What can you do?\")\n",
    "test"
   ]
  },
  {
   "cell_type": "code",
   "execution_count": 15,
   "metadata": {},
   "outputs": [
    {
     "data": {
      "text/plain": [
       "ModelResponse(parts=[TextPart(content='I can assist with various tasks and provide information on many topics. Here are some things I can help with:\\n\\n1. **General Knowledge**: Answer general questions about history, science, technology, culture, and more.\\n2. **Language Translation**: Translate text from one language to another.\\n3. **Mathematics**: Solve math problems ranging from simple arithmetic to advanced calculus.\\n4. **Creative Writing**: Assist with writing stories, articles, emails, scripts, and other creative works.\\n5. **Research**: Conduct research on a wide range of topics and provide summaries or detailed reports.\\n6. **Education Support**: Offer explanations and solutions for academic questions in subjects like biology, physics, economics, etc.\\n7. **Technical Assistance**: Provide guidance on software, programming languages (like Python, Java), and hardware issues.\\n8. **Calendar Management**: Help manage your schedule by adding appointments, setting reminders, or suggesting times for meetings.\\n9. **Email Creation and Scheduling**: Draft emails, proofread them, and help with the scheduling of sending.\\n10. **Game Advice**: Offer tips and strategies for various video games.\\n\\nLet me know how I can assist you specifically!', part_kind='text')], model_name='qwen2.5:7b', timestamp=datetime.datetime(2025, 2, 15, 16, 44, 26, tzinfo=datetime.timezone.utc), kind='response')"
      ]
     },
     "execution_count": 15,
     "metadata": {},
     "output_type": "execute_result"
    }
   ],
   "source": [
    "test.new_messages()[-1]"
   ]
  },
  {
   "cell_type": "code",
   "execution_count": 21,
   "metadata": {},
   "outputs": [],
   "source": [
    "class Embedder(Protocol):\n",
    "    def __call__(self, text: str) -> list[float]: ..."
   ]
  },
  {
   "cell_type": "code",
   "execution_count": 22,
   "metadata": {},
   "outputs": [],
   "source": [
    "class OllamaEmbedder:\n",
    "    def __init__(self, model_name: str):\n",
    "        self.model_name = model_name\n",
    "\n",
    "    def __call__(self, text: str) -> list[float]:\n",
    "        return ollama.embeddings(prompt=text, model=self.model_name).embedding"
   ]
  },
  {
   "cell_type": "code",
   "execution_count": 23,
   "metadata": {},
   "outputs": [],
   "source": [
    "K = 8"
   ]
  },
  {
   "cell_type": "code",
   "execution_count": 24,
   "metadata": {},
   "outputs": [],
   "source": [
    "@dataclass\n",
    "class State:\n",
    "    user_query: str\n",
    "    retrieval_agent_history: list[ModelMessage] = field(default_factory=set)\n",
    "    unused_urls: Set[str] = field(default_factory=set)\n",
    "    searched_urls: Set[str] = field(default_factory=set)\n",
    "    unembedded_webpages: list[WebPage] = field(default_factory=list)\n",
    "    embedded_webpages: list[tuple(WebPage, Section, list[list[float]])] = field(\n",
    "        default_factory=list\n",
    "    )\n",
    "\n",
    "\n",
    "@dataclass\n",
    "class Ask(BaseNode[State]):\n",
    "    \"\"\"User asks a question\"\"\"\n",
    "\n",
    "    async def run(self, ctx: GraphRunContext[State]) -> Plan:\n",
    "        ctx.state.user_query = Prompt.ask(\"What can I help you with?\")\n",
    "        return Retrieval\n",
    "\n",
    "\n",
    "@dataclass\n",
    "class Plan(BaseNode[State]):\n",
    "    \"\"\"Plan the steps to answer the user's question\"\"\"\n",
    "\n",
    "    def run(self, ctx: GraphRunContext[State]) -> Retrieval | Evaluate: ...\n",
    "\n",
    "\n",
    "@dataclass\n",
    "class RetrievalResult:\n",
    "    top_5_results: list[str]\n",
    "    urls: list[str]\n",
    "\n",
    "\n",
    "@dataclass\n",
    "class NoRelevantData: ...\n",
    "\n",
    "\n",
    "@dataclass\n",
    "class RetrievalDeps:\n",
    "    embedded_webpages: list[tuple(WebPage, Section, list[list[float]])]\n",
    "    embedding_model: Embedder\n",
    "\n",
    "\n",
    "def create_retrieval_agent(model: str | OpenAIModel) -> Agent:\n",
    "    # ollama_model = OpenAIModel(model_name='qwen2.5:7b', base_url='http://localhost:11434/v1')\n",
    "    retrieval_agent = Agent[RetrievalDeps, RetrievalResult | NoRelevantData](\n",
    "        model,\n",
    "        result_type=RetrievalResult | NoRelevantData,\n",
    "        deps_type=RetrievalDeps,\n",
    "        system_prompt=(\n",
    "            \"Given a user query use the `retrieval_tool` to search websites in memory for information relevant to answer the user's question. \"\n",
    "            \"If the information recieved is not relevant to the user's query try changing the prompt you give to the retrieval tool. \"\n",
    "            \"If there still doesn't appear to be relevant information after 2 tries return 'NoRelevantData'\"\n",
    "        ),\n",
    "        retries=2,\n",
    "    )\n",
    "\n",
    "    @retrieval_agent.tool(retries=2)\n",
    "    async def retrieval_tool(\n",
    "        ctx: RunContext[RetrievalDeps], prompt: str\n",
    "    ) -> list[dict[str, str]]:\n",
    "        query_embedding = ctx.deps.embedding_model(prompt)\n",
    "\n",
    "        def _metric(webpage, section, embedding) -> float:\n",
    "            return section.compute_distance(query_embedding)\n",
    "\n",
    "        top_k_results = sorted(\n",
    "            ctx.deps.embedded_webpages, key=lambda x: _metric(*x), reverse=True\n",
    "        )[:K]\n",
    "\n",
    "        return top_k_results\n",
    "\n",
    "    return retrieval_agent\n",
    "\n",
    "\n",
    "@dataclass\n",
    "class Retrieval(BaseNode[State]):\n",
    "    \"\"\"Attempt to find information related to the question\"\"\"\n",
    "\n",
    "    def run(self, ctx: GraphRunContext[State]) -> Search | Plan:\n",
    "        return Search()\n",
    "\n",
    "\n",
    "@dataclass\n",
    "class Search(BaseNode[State]):\n",
    "    \"\"\"Search for more information if necessary\"\"\"\n",
    "\n",
    "    def run(self, ctx: GraphRunContext[State]) -> EmbedWebPages: ...\n",
    "\n",
    "\n",
    "@dataclass\n",
    "class EmbedWebPages(BaseNode[State]):\n",
    "    \"\"\"Embed new information\"\"\"\n",
    "\n",
    "    def run(self, ctx: GraphRunContext[State]) -> Retrieval: ...\n",
    "\n",
    "\n",
    "@dataclass\n",
    "class SummaryResult:\n",
    "    summary: str\n",
    "    sources: list[str]\n",
    "\n",
    "\n",
    "@dataclass\n",
    "class Evaluate(BaseNode[State]):\n",
    "    \"\"\"Evaluate model answer\"\"\"\n",
    "\n",
    "    def run(self, ctx: GraphRunContext[State]) -> Plan | Summerize: ...\n",
    "\n",
    "\n",
    "@dataclass\n",
    "class Summerize(BaseNode[State, None, SummaryResult]):\n",
    "    \"\"\"Summerize the answer\"\"\"\n",
    "\n",
    "    def run(self, ctx: GraphRunContext[State]) -> Evaluate | End[SummaryResult]: ..."
   ]
  },
  {
   "cell_type": "code",
   "execution_count": 25,
   "metadata": {},
   "outputs": [],
   "source": [
    "graph = Graph(\n",
    "    nodes=[Ask, Plan, Retrieval, Search, EmbedWebPages, Evaluate, Summerize],\n",
    "    state_type=State,\n",
    "    run_end_type=SummaryResult,\n",
    ")"
   ]
  },
  {
   "cell_type": "code",
   "execution_count": 26,
   "metadata": {},
   "outputs": [],
   "source": [
    "from IPython.display import Image"
   ]
  },
  {
   "cell_type": "code",
   "execution_count": 27,
   "metadata": {},
   "outputs": [
    {
     "ename": "ConnectError",
     "evalue": "[Errno 8] nodename nor servname provided, or not known",
     "output_type": "error",
     "traceback": [
      "\u001b[0;31m---------------------------------------------------------------------------\u001b[0m",
      "\u001b[0;31mConnectError\u001b[0m                              Traceback (most recent call last)",
      "File \u001b[0;32m~/Coding/Projects/website_to_rag/.venv/lib/python3.13/site-packages/httpx/_transports/default.py:72\u001b[0m, in \u001b[0;36mmap_httpcore_exceptions\u001b[0;34m()\u001b[0m\n\u001b[1;32m     71\u001b[0m \u001b[38;5;28;01mtry\u001b[39;00m:\n\u001b[0;32m---> 72\u001b[0m     \u001b[38;5;28;01myield\u001b[39;00m\n\u001b[1;32m     73\u001b[0m \u001b[38;5;28;01mexcept\u001b[39;00m \u001b[38;5;167;01mException\u001b[39;00m \u001b[38;5;28;01mas\u001b[39;00m exc:\n",
      "File \u001b[0;32m~/Coding/Projects/website_to_rag/.venv/lib/python3.13/site-packages/httpx/_transports/default.py:236\u001b[0m, in \u001b[0;36mHTTPTransport.handle_request\u001b[0;34m(self, request)\u001b[0m\n\u001b[1;32m    235\u001b[0m \u001b[38;5;28;01mwith\u001b[39;00m map_httpcore_exceptions():\n\u001b[0;32m--> 236\u001b[0m     resp \u001b[38;5;241m=\u001b[39m \u001b[38;5;28;43mself\u001b[39;49m\u001b[38;5;241;43m.\u001b[39;49m\u001b[43m_pool\u001b[49m\u001b[38;5;241;43m.\u001b[39;49m\u001b[43mhandle_request\u001b[49m\u001b[43m(\u001b[49m\u001b[43mreq\u001b[49m\u001b[43m)\u001b[49m\n\u001b[1;32m    238\u001b[0m \u001b[38;5;28;01massert\u001b[39;00m \u001b[38;5;28misinstance\u001b[39m(resp\u001b[38;5;241m.\u001b[39mstream, typing\u001b[38;5;241m.\u001b[39mIterable)\n",
      "File \u001b[0;32m~/Coding/Projects/website_to_rag/.venv/lib/python3.13/site-packages/httpcore/_sync/connection_pool.py:256\u001b[0m, in \u001b[0;36mConnectionPool.handle_request\u001b[0;34m(self, request)\u001b[0m\n\u001b[1;32m    255\u001b[0m     \u001b[38;5;28mself\u001b[39m\u001b[38;5;241m.\u001b[39m_close_connections(closing)\n\u001b[0;32m--> 256\u001b[0m     \u001b[38;5;28;01mraise\u001b[39;00m exc \u001b[38;5;28;01mfrom\u001b[39;00m\u001b[38;5;250m \u001b[39m\u001b[38;5;28;01mNone\u001b[39;00m\n\u001b[1;32m    258\u001b[0m \u001b[38;5;66;03m# Return the response. Note that in this case we still have to manage\u001b[39;00m\n\u001b[1;32m    259\u001b[0m \u001b[38;5;66;03m# the point at which the response is closed.\u001b[39;00m\n",
      "File \u001b[0;32m~/Coding/Projects/website_to_rag/.venv/lib/python3.13/site-packages/httpcore/_sync/connection_pool.py:236\u001b[0m, in \u001b[0;36mConnectionPool.handle_request\u001b[0;34m(self, request)\u001b[0m\n\u001b[1;32m    234\u001b[0m \u001b[38;5;28;01mtry\u001b[39;00m:\n\u001b[1;32m    235\u001b[0m     \u001b[38;5;66;03m# Send the request on the assigned connection.\u001b[39;00m\n\u001b[0;32m--> 236\u001b[0m     response \u001b[38;5;241m=\u001b[39m \u001b[43mconnection\u001b[49m\u001b[38;5;241;43m.\u001b[39;49m\u001b[43mhandle_request\u001b[49m\u001b[43m(\u001b[49m\n\u001b[1;32m    237\u001b[0m \u001b[43m        \u001b[49m\u001b[43mpool_request\u001b[49m\u001b[38;5;241;43m.\u001b[39;49m\u001b[43mrequest\u001b[49m\n\u001b[1;32m    238\u001b[0m \u001b[43m    \u001b[49m\u001b[43m)\u001b[49m\n\u001b[1;32m    239\u001b[0m \u001b[38;5;28;01mexcept\u001b[39;00m ConnectionNotAvailable:\n\u001b[1;32m    240\u001b[0m     \u001b[38;5;66;03m# In some cases a connection may initially be available to\u001b[39;00m\n\u001b[1;32m    241\u001b[0m     \u001b[38;5;66;03m# handle a request, but then become unavailable.\u001b[39;00m\n\u001b[1;32m    242\u001b[0m     \u001b[38;5;66;03m#\u001b[39;00m\n\u001b[1;32m    243\u001b[0m     \u001b[38;5;66;03m# In this case we clear the connection and try again.\u001b[39;00m\n",
      "File \u001b[0;32m~/Coding/Projects/website_to_rag/.venv/lib/python3.13/site-packages/httpcore/_sync/connection.py:101\u001b[0m, in \u001b[0;36mHTTPConnection.handle_request\u001b[0;34m(self, request)\u001b[0m\n\u001b[1;32m    100\u001b[0m     \u001b[38;5;28mself\u001b[39m\u001b[38;5;241m.\u001b[39m_connect_failed \u001b[38;5;241m=\u001b[39m \u001b[38;5;28;01mTrue\u001b[39;00m\n\u001b[0;32m--> 101\u001b[0m     \u001b[38;5;28;01mraise\u001b[39;00m exc\n\u001b[1;32m    103\u001b[0m \u001b[38;5;28;01mreturn\u001b[39;00m \u001b[38;5;28mself\u001b[39m\u001b[38;5;241m.\u001b[39m_connection\u001b[38;5;241m.\u001b[39mhandle_request(request)\n",
      "File \u001b[0;32m~/Coding/Projects/website_to_rag/.venv/lib/python3.13/site-packages/httpcore/_sync/connection.py:78\u001b[0m, in \u001b[0;36mHTTPConnection.handle_request\u001b[0;34m(self, request)\u001b[0m\n\u001b[1;32m     77\u001b[0m \u001b[38;5;28;01mif\u001b[39;00m \u001b[38;5;28mself\u001b[39m\u001b[38;5;241m.\u001b[39m_connection \u001b[38;5;129;01mis\u001b[39;00m \u001b[38;5;28;01mNone\u001b[39;00m:\n\u001b[0;32m---> 78\u001b[0m     stream \u001b[38;5;241m=\u001b[39m \u001b[38;5;28;43mself\u001b[39;49m\u001b[38;5;241;43m.\u001b[39;49m\u001b[43m_connect\u001b[49m\u001b[43m(\u001b[49m\u001b[43mrequest\u001b[49m\u001b[43m)\u001b[49m\n\u001b[1;32m     80\u001b[0m     ssl_object \u001b[38;5;241m=\u001b[39m stream\u001b[38;5;241m.\u001b[39mget_extra_info(\u001b[38;5;124m\"\u001b[39m\u001b[38;5;124mssl_object\u001b[39m\u001b[38;5;124m\"\u001b[39m)\n",
      "File \u001b[0;32m~/Coding/Projects/website_to_rag/.venv/lib/python3.13/site-packages/httpcore/_sync/connection.py:124\u001b[0m, in \u001b[0;36mHTTPConnection._connect\u001b[0;34m(self, request)\u001b[0m\n\u001b[1;32m    123\u001b[0m \u001b[38;5;28;01mwith\u001b[39;00m Trace(\u001b[38;5;124m\"\u001b[39m\u001b[38;5;124mconnect_tcp\u001b[39m\u001b[38;5;124m\"\u001b[39m, logger, request, kwargs) \u001b[38;5;28;01mas\u001b[39;00m trace:\n\u001b[0;32m--> 124\u001b[0m     stream \u001b[38;5;241m=\u001b[39m \u001b[38;5;28;43mself\u001b[39;49m\u001b[38;5;241;43m.\u001b[39;49m\u001b[43m_network_backend\u001b[49m\u001b[38;5;241;43m.\u001b[39;49m\u001b[43mconnect_tcp\u001b[49m\u001b[43m(\u001b[49m\u001b[38;5;241;43m*\u001b[39;49m\u001b[38;5;241;43m*\u001b[39;49m\u001b[43mkwargs\u001b[49m\u001b[43m)\u001b[49m\n\u001b[1;32m    125\u001b[0m     trace\u001b[38;5;241m.\u001b[39mreturn_value \u001b[38;5;241m=\u001b[39m stream\n",
      "File \u001b[0;32m~/Coding/Projects/website_to_rag/.venv/lib/python3.13/site-packages/httpcore/_backends/sync.py:207\u001b[0m, in \u001b[0;36mSyncBackend.connect_tcp\u001b[0;34m(self, host, port, timeout, local_address, socket_options)\u001b[0m\n\u001b[1;32m    202\u001b[0m exc_map: ExceptionMapping \u001b[38;5;241m=\u001b[39m {\n\u001b[1;32m    203\u001b[0m     socket\u001b[38;5;241m.\u001b[39mtimeout: ConnectTimeout,\n\u001b[1;32m    204\u001b[0m     \u001b[38;5;167;01mOSError\u001b[39;00m: ConnectError,\n\u001b[1;32m    205\u001b[0m }\n\u001b[0;32m--> 207\u001b[0m \u001b[38;5;28;01mwith\u001b[39;00m map_exceptions(exc_map):\n\u001b[1;32m    208\u001b[0m     sock \u001b[38;5;241m=\u001b[39m socket\u001b[38;5;241m.\u001b[39mcreate_connection(\n\u001b[1;32m    209\u001b[0m         address,\n\u001b[1;32m    210\u001b[0m         timeout,\n\u001b[1;32m    211\u001b[0m         source_address\u001b[38;5;241m=\u001b[39msource_address,\n\u001b[1;32m    212\u001b[0m     )\n",
      "File \u001b[0;32m~/.local/share/uv/python/cpython-3.13.1-macos-aarch64-none/lib/python3.13/contextlib.py:162\u001b[0m, in \u001b[0;36m_GeneratorContextManager.__exit__\u001b[0;34m(self, typ, value, traceback)\u001b[0m\n\u001b[1;32m    161\u001b[0m \u001b[38;5;28;01mtry\u001b[39;00m:\n\u001b[0;32m--> 162\u001b[0m     \u001b[38;5;28;43mself\u001b[39;49m\u001b[38;5;241;43m.\u001b[39;49m\u001b[43mgen\u001b[49m\u001b[38;5;241;43m.\u001b[39;49m\u001b[43mthrow\u001b[49m\u001b[43m(\u001b[49m\u001b[43mvalue\u001b[49m\u001b[43m)\u001b[49m\n\u001b[1;32m    163\u001b[0m \u001b[38;5;28;01mexcept\u001b[39;00m \u001b[38;5;167;01mStopIteration\u001b[39;00m \u001b[38;5;28;01mas\u001b[39;00m exc:\n\u001b[1;32m    164\u001b[0m     \u001b[38;5;66;03m# Suppress StopIteration *unless* it's the same exception that\u001b[39;00m\n\u001b[1;32m    165\u001b[0m     \u001b[38;5;66;03m# was passed to throw().  This prevents a StopIteration\u001b[39;00m\n\u001b[1;32m    166\u001b[0m     \u001b[38;5;66;03m# raised inside the \"with\" statement from being suppressed.\u001b[39;00m\n",
      "File \u001b[0;32m~/Coding/Projects/website_to_rag/.venv/lib/python3.13/site-packages/httpcore/_exceptions.py:14\u001b[0m, in \u001b[0;36mmap_exceptions\u001b[0;34m(map)\u001b[0m\n\u001b[1;32m     13\u001b[0m     \u001b[38;5;28;01mif\u001b[39;00m \u001b[38;5;28misinstance\u001b[39m(exc, from_exc):\n\u001b[0;32m---> 14\u001b[0m         \u001b[38;5;28;01mraise\u001b[39;00m to_exc(exc) \u001b[38;5;28;01mfrom\u001b[39;00m\u001b[38;5;250m \u001b[39m\u001b[38;5;21;01mexc\u001b[39;00m\n\u001b[1;32m     15\u001b[0m \u001b[38;5;28;01mraise\u001b[39;00m\n",
      "\u001b[0;31mConnectError\u001b[0m: [Errno 8] nodename nor servname provided, or not known",
      "\nThe above exception was the direct cause of the following exception:\n",
      "\u001b[0;31mConnectError\u001b[0m                              Traceback (most recent call last)",
      "Cell \u001b[0;32mIn[27], line 1\u001b[0m\n\u001b[0;32m----> 1\u001b[0m Image(\u001b[43mgraph\u001b[49m\u001b[38;5;241;43m.\u001b[39;49m\u001b[43mmermaid_image\u001b[49m\u001b[43m(\u001b[49m\u001b[43mstart_node\u001b[49m\u001b[38;5;241;43m=\u001b[39;49m\u001b[43mAsk\u001b[49m\u001b[43m)\u001b[49m)\n",
      "File \u001b[0;32m~/Coding/Projects/website_to_rag/.venv/lib/python3.13/site-packages/pydantic_graph/graph.py:395\u001b[0m, in \u001b[0;36mGraph.mermaid_image\u001b[0;34m(self, infer_name, **kwargs)\u001b[0m\n\u001b[1;32m    393\u001b[0m \u001b[38;5;28;01mif\u001b[39;00m \u001b[38;5;124m'\u001b[39m\u001b[38;5;124mtitle\u001b[39m\u001b[38;5;124m'\u001b[39m \u001b[38;5;129;01mnot\u001b[39;00m \u001b[38;5;129;01min\u001b[39;00m kwargs \u001b[38;5;129;01mand\u001b[39;00m \u001b[38;5;28mself\u001b[39m\u001b[38;5;241m.\u001b[39mname:\n\u001b[1;32m    394\u001b[0m     kwargs[\u001b[38;5;124m'\u001b[39m\u001b[38;5;124mtitle\u001b[39m\u001b[38;5;124m'\u001b[39m] \u001b[38;5;241m=\u001b[39m \u001b[38;5;28mself\u001b[39m\u001b[38;5;241m.\u001b[39mname\n\u001b[0;32m--> 395\u001b[0m \u001b[38;5;28;01mreturn\u001b[39;00m \u001b[43mmermaid\u001b[49m\u001b[38;5;241;43m.\u001b[39;49m\u001b[43mrequest_image\u001b[49m\u001b[43m(\u001b[49m\u001b[38;5;28;43mself\u001b[39;49m\u001b[43m,\u001b[49m\u001b[43m \u001b[49m\u001b[38;5;241;43m*\u001b[39;49m\u001b[38;5;241;43m*\u001b[39;49m\u001b[43mkwargs\u001b[49m\u001b[43m)\u001b[49m\n",
      "File \u001b[0;32m~/Coding/Projects/website_to_rag/.venv/lib/python3.13/site-packages/pydantic_graph/mermaid.py:188\u001b[0m, in \u001b[0;36mrequest_image\u001b[0;34m(graph, **kwargs)\u001b[0m\n\u001b[1;32m    185\u001b[0m     params[\u001b[38;5;124m'\u001b[39m\u001b[38;5;124mscale\u001b[39m\u001b[38;5;124m'\u001b[39m] \u001b[38;5;241m=\u001b[39m scale\n\u001b[1;32m    187\u001b[0m httpx_client \u001b[38;5;241m=\u001b[39m kwargs\u001b[38;5;241m.\u001b[39mget(\u001b[38;5;124m'\u001b[39m\u001b[38;5;124mhttpx_client\u001b[39m\u001b[38;5;124m'\u001b[39m) \u001b[38;5;129;01mor\u001b[39;00m httpx\u001b[38;5;241m.\u001b[39mClient()\n\u001b[0;32m--> 188\u001b[0m response \u001b[38;5;241m=\u001b[39m \u001b[43mhttpx_client\u001b[49m\u001b[38;5;241;43m.\u001b[39;49m\u001b[43mget\u001b[49m\u001b[43m(\u001b[49m\u001b[43murl\u001b[49m\u001b[43m,\u001b[49m\u001b[43m \u001b[49m\u001b[43mparams\u001b[49m\u001b[38;5;241;43m=\u001b[39;49m\u001b[43mparams\u001b[49m\u001b[43m)\u001b[49m\n\u001b[1;32m    189\u001b[0m \u001b[38;5;28;01mif\u001b[39;00m \u001b[38;5;129;01mnot\u001b[39;00m response\u001b[38;5;241m.\u001b[39mis_success:\n\u001b[1;32m    190\u001b[0m     \u001b[38;5;28;01mraise\u001b[39;00m httpx\u001b[38;5;241m.\u001b[39mHTTPStatusError(\n\u001b[1;32m    191\u001b[0m         \u001b[38;5;124mf\u001b[39m\u001b[38;5;124m'\u001b[39m\u001b[38;5;132;01m{\u001b[39;00mresponse\u001b[38;5;241m.\u001b[39mstatus_code\u001b[38;5;132;01m}\u001b[39;00m\u001b[38;5;124m error generating image:\u001b[39m\u001b[38;5;130;01m\\n\u001b[39;00m\u001b[38;5;132;01m{\u001b[39;00mresponse\u001b[38;5;241m.\u001b[39mtext\u001b[38;5;132;01m}\u001b[39;00m\u001b[38;5;124m'\u001b[39m,\n\u001b[1;32m    192\u001b[0m         request\u001b[38;5;241m=\u001b[39mresponse\u001b[38;5;241m.\u001b[39mrequest,\n\u001b[1;32m    193\u001b[0m         response\u001b[38;5;241m=\u001b[39mresponse,\n\u001b[1;32m    194\u001b[0m     )\n",
      "File \u001b[0;32m~/Coding/Projects/website_to_rag/.venv/lib/python3.13/site-packages/httpx/_client.py:1066\u001b[0m, in \u001b[0;36mClient.get\u001b[0;34m(self, url, params, headers, cookies, auth, follow_redirects, timeout, extensions)\u001b[0m\n\u001b[1;32m   1049\u001b[0m \u001b[38;5;28;01mdef\u001b[39;00m\u001b[38;5;250m \u001b[39m\u001b[38;5;21mget\u001b[39m(\n\u001b[1;32m   1050\u001b[0m     \u001b[38;5;28mself\u001b[39m,\n\u001b[1;32m   1051\u001b[0m     url: URL \u001b[38;5;241m|\u001b[39m \u001b[38;5;28mstr\u001b[39m,\n\u001b[0;32m   (...)\u001b[0m\n\u001b[1;32m   1059\u001b[0m     extensions: RequestExtensions \u001b[38;5;241m|\u001b[39m \u001b[38;5;28;01mNone\u001b[39;00m \u001b[38;5;241m=\u001b[39m \u001b[38;5;28;01mNone\u001b[39;00m,\n\u001b[1;32m   1060\u001b[0m ) \u001b[38;5;241m-\u001b[39m\u001b[38;5;241m>\u001b[39m Response:\n\u001b[1;32m   1061\u001b[0m \u001b[38;5;250m    \u001b[39m\u001b[38;5;124;03m\"\"\"\u001b[39;00m\n\u001b[1;32m   1062\u001b[0m \u001b[38;5;124;03m    Send a `GET` request.\u001b[39;00m\n\u001b[1;32m   1063\u001b[0m \n\u001b[1;32m   1064\u001b[0m \u001b[38;5;124;03m    **Parameters**: See `httpx.request`.\u001b[39;00m\n\u001b[1;32m   1065\u001b[0m \u001b[38;5;124;03m    \"\"\"\u001b[39;00m\n\u001b[0;32m-> 1066\u001b[0m     \u001b[38;5;28;01mreturn\u001b[39;00m \u001b[38;5;28;43mself\u001b[39;49m\u001b[38;5;241;43m.\u001b[39;49m\u001b[43mrequest\u001b[49m\u001b[43m(\u001b[49m\n\u001b[1;32m   1067\u001b[0m \u001b[43m        \u001b[49m\u001b[38;5;124;43m\"\u001b[39;49m\u001b[38;5;124;43mGET\u001b[39;49m\u001b[38;5;124;43m\"\u001b[39;49m\u001b[43m,\u001b[49m\n\u001b[1;32m   1068\u001b[0m \u001b[43m        \u001b[49m\u001b[43murl\u001b[49m\u001b[43m,\u001b[49m\n\u001b[1;32m   1069\u001b[0m \u001b[43m        \u001b[49m\u001b[43mparams\u001b[49m\u001b[38;5;241;43m=\u001b[39;49m\u001b[43mparams\u001b[49m\u001b[43m,\u001b[49m\n\u001b[1;32m   1070\u001b[0m \u001b[43m        \u001b[49m\u001b[43mheaders\u001b[49m\u001b[38;5;241;43m=\u001b[39;49m\u001b[43mheaders\u001b[49m\u001b[43m,\u001b[49m\n\u001b[1;32m   1071\u001b[0m \u001b[43m        \u001b[49m\u001b[43mcookies\u001b[49m\u001b[38;5;241;43m=\u001b[39;49m\u001b[43mcookies\u001b[49m\u001b[43m,\u001b[49m\n\u001b[1;32m   1072\u001b[0m \u001b[43m        \u001b[49m\u001b[43mauth\u001b[49m\u001b[38;5;241;43m=\u001b[39;49m\u001b[43mauth\u001b[49m\u001b[43m,\u001b[49m\n\u001b[1;32m   1073\u001b[0m \u001b[43m        \u001b[49m\u001b[43mfollow_redirects\u001b[49m\u001b[38;5;241;43m=\u001b[39;49m\u001b[43mfollow_redirects\u001b[49m\u001b[43m,\u001b[49m\n\u001b[1;32m   1074\u001b[0m \u001b[43m        \u001b[49m\u001b[43mtimeout\u001b[49m\u001b[38;5;241;43m=\u001b[39;49m\u001b[43mtimeout\u001b[49m\u001b[43m,\u001b[49m\n\u001b[1;32m   1075\u001b[0m \u001b[43m        \u001b[49m\u001b[43mextensions\u001b[49m\u001b[38;5;241;43m=\u001b[39;49m\u001b[43mextensions\u001b[49m\u001b[43m,\u001b[49m\n\u001b[1;32m   1076\u001b[0m \u001b[43m    \u001b[49m\u001b[43m)\u001b[49m\n",
      "File \u001b[0;32m~/Coding/Projects/website_to_rag/.venv/lib/python3.13/site-packages/httpx/_client.py:837\u001b[0m, in \u001b[0;36mClient.request\u001b[0;34m(self, method, url, content, data, files, json, params, headers, cookies, auth, follow_redirects, timeout, extensions)\u001b[0m\n\u001b[1;32m    822\u001b[0m     warnings\u001b[38;5;241m.\u001b[39mwarn(message, \u001b[38;5;167;01mDeprecationWarning\u001b[39;00m)\n\u001b[1;32m    824\u001b[0m request \u001b[38;5;241m=\u001b[39m \u001b[38;5;28mself\u001b[39m\u001b[38;5;241m.\u001b[39mbuild_request(\n\u001b[1;32m    825\u001b[0m     method\u001b[38;5;241m=\u001b[39mmethod,\n\u001b[1;32m    826\u001b[0m     url\u001b[38;5;241m=\u001b[39murl,\n\u001b[0;32m   (...)\u001b[0m\n\u001b[1;32m    835\u001b[0m     extensions\u001b[38;5;241m=\u001b[39mextensions,\n\u001b[1;32m    836\u001b[0m )\n\u001b[0;32m--> 837\u001b[0m \u001b[38;5;28;01mreturn\u001b[39;00m \u001b[38;5;28;43mself\u001b[39;49m\u001b[38;5;241;43m.\u001b[39;49m\u001b[43msend\u001b[49m\u001b[43m(\u001b[49m\u001b[43mrequest\u001b[49m\u001b[43m,\u001b[49m\u001b[43m \u001b[49m\u001b[43mauth\u001b[49m\u001b[38;5;241;43m=\u001b[39;49m\u001b[43mauth\u001b[49m\u001b[43m,\u001b[49m\u001b[43m \u001b[49m\u001b[43mfollow_redirects\u001b[49m\u001b[38;5;241;43m=\u001b[39;49m\u001b[43mfollow_redirects\u001b[49m\u001b[43m)\u001b[49m\n",
      "File \u001b[0;32m~/Coding/Projects/website_to_rag/.venv/lib/python3.13/site-packages/httpx/_client.py:926\u001b[0m, in \u001b[0;36mClient.send\u001b[0;34m(self, request, stream, auth, follow_redirects)\u001b[0m\n\u001b[1;32m    922\u001b[0m \u001b[38;5;28mself\u001b[39m\u001b[38;5;241m.\u001b[39m_set_timeout(request)\n\u001b[1;32m    924\u001b[0m auth \u001b[38;5;241m=\u001b[39m \u001b[38;5;28mself\u001b[39m\u001b[38;5;241m.\u001b[39m_build_request_auth(request, auth)\n\u001b[0;32m--> 926\u001b[0m response \u001b[38;5;241m=\u001b[39m \u001b[38;5;28;43mself\u001b[39;49m\u001b[38;5;241;43m.\u001b[39;49m\u001b[43m_send_handling_auth\u001b[49m\u001b[43m(\u001b[49m\n\u001b[1;32m    927\u001b[0m \u001b[43m    \u001b[49m\u001b[43mrequest\u001b[49m\u001b[43m,\u001b[49m\n\u001b[1;32m    928\u001b[0m \u001b[43m    \u001b[49m\u001b[43mauth\u001b[49m\u001b[38;5;241;43m=\u001b[39;49m\u001b[43mauth\u001b[49m\u001b[43m,\u001b[49m\n\u001b[1;32m    929\u001b[0m \u001b[43m    \u001b[49m\u001b[43mfollow_redirects\u001b[49m\u001b[38;5;241;43m=\u001b[39;49m\u001b[43mfollow_redirects\u001b[49m\u001b[43m,\u001b[49m\n\u001b[1;32m    930\u001b[0m \u001b[43m    \u001b[49m\u001b[43mhistory\u001b[49m\u001b[38;5;241;43m=\u001b[39;49m\u001b[43m[\u001b[49m\u001b[43m]\u001b[49m\u001b[43m,\u001b[49m\n\u001b[1;32m    931\u001b[0m \u001b[43m\u001b[49m\u001b[43m)\u001b[49m\n\u001b[1;32m    932\u001b[0m \u001b[38;5;28;01mtry\u001b[39;00m:\n\u001b[1;32m    933\u001b[0m     \u001b[38;5;28;01mif\u001b[39;00m \u001b[38;5;129;01mnot\u001b[39;00m stream:\n",
      "File \u001b[0;32m~/Coding/Projects/website_to_rag/.venv/lib/python3.13/site-packages/httpx/_client.py:954\u001b[0m, in \u001b[0;36mClient._send_handling_auth\u001b[0;34m(self, request, auth, follow_redirects, history)\u001b[0m\n\u001b[1;32m    951\u001b[0m request \u001b[38;5;241m=\u001b[39m \u001b[38;5;28mnext\u001b[39m(auth_flow)\n\u001b[1;32m    953\u001b[0m \u001b[38;5;28;01mwhile\u001b[39;00m \u001b[38;5;28;01mTrue\u001b[39;00m:\n\u001b[0;32m--> 954\u001b[0m     response \u001b[38;5;241m=\u001b[39m \u001b[38;5;28;43mself\u001b[39;49m\u001b[38;5;241;43m.\u001b[39;49m\u001b[43m_send_handling_redirects\u001b[49m\u001b[43m(\u001b[49m\n\u001b[1;32m    955\u001b[0m \u001b[43m        \u001b[49m\u001b[43mrequest\u001b[49m\u001b[43m,\u001b[49m\n\u001b[1;32m    956\u001b[0m \u001b[43m        \u001b[49m\u001b[43mfollow_redirects\u001b[49m\u001b[38;5;241;43m=\u001b[39;49m\u001b[43mfollow_redirects\u001b[49m\u001b[43m,\u001b[49m\n\u001b[1;32m    957\u001b[0m \u001b[43m        \u001b[49m\u001b[43mhistory\u001b[49m\u001b[38;5;241;43m=\u001b[39;49m\u001b[43mhistory\u001b[49m\u001b[43m,\u001b[49m\n\u001b[1;32m    958\u001b[0m \u001b[43m    \u001b[49m\u001b[43m)\u001b[49m\n\u001b[1;32m    959\u001b[0m     \u001b[38;5;28;01mtry\u001b[39;00m:\n\u001b[1;32m    960\u001b[0m         \u001b[38;5;28;01mtry\u001b[39;00m:\n",
      "File \u001b[0;32m~/Coding/Projects/website_to_rag/.venv/lib/python3.13/site-packages/httpx/_client.py:991\u001b[0m, in \u001b[0;36mClient._send_handling_redirects\u001b[0;34m(self, request, follow_redirects, history)\u001b[0m\n\u001b[1;32m    988\u001b[0m \u001b[38;5;28;01mfor\u001b[39;00m hook \u001b[38;5;129;01min\u001b[39;00m \u001b[38;5;28mself\u001b[39m\u001b[38;5;241m.\u001b[39m_event_hooks[\u001b[38;5;124m\"\u001b[39m\u001b[38;5;124mrequest\u001b[39m\u001b[38;5;124m\"\u001b[39m]:\n\u001b[1;32m    989\u001b[0m     hook(request)\n\u001b[0;32m--> 991\u001b[0m response \u001b[38;5;241m=\u001b[39m \u001b[38;5;28;43mself\u001b[39;49m\u001b[38;5;241;43m.\u001b[39;49m\u001b[43m_send_single_request\u001b[49m\u001b[43m(\u001b[49m\u001b[43mrequest\u001b[49m\u001b[43m)\u001b[49m\n\u001b[1;32m    992\u001b[0m \u001b[38;5;28;01mtry\u001b[39;00m:\n\u001b[1;32m    993\u001b[0m     \u001b[38;5;28;01mfor\u001b[39;00m hook \u001b[38;5;129;01min\u001b[39;00m \u001b[38;5;28mself\u001b[39m\u001b[38;5;241m.\u001b[39m_event_hooks[\u001b[38;5;124m\"\u001b[39m\u001b[38;5;124mresponse\u001b[39m\u001b[38;5;124m\"\u001b[39m]:\n",
      "File \u001b[0;32m~/Coding/Projects/website_to_rag/.venv/lib/python3.13/site-packages/httpx/_client.py:1027\u001b[0m, in \u001b[0;36mClient._send_single_request\u001b[0;34m(self, request)\u001b[0m\n\u001b[1;32m   1022\u001b[0m     \u001b[38;5;28;01mraise\u001b[39;00m \u001b[38;5;167;01mRuntimeError\u001b[39;00m(\n\u001b[1;32m   1023\u001b[0m         \u001b[38;5;124m\"\u001b[39m\u001b[38;5;124mAttempted to send an async request with a sync Client instance.\u001b[39m\u001b[38;5;124m\"\u001b[39m\n\u001b[1;32m   1024\u001b[0m     )\n\u001b[1;32m   1026\u001b[0m \u001b[38;5;28;01mwith\u001b[39;00m request_context(request\u001b[38;5;241m=\u001b[39mrequest):\n\u001b[0;32m-> 1027\u001b[0m     response \u001b[38;5;241m=\u001b[39m \u001b[43mtransport\u001b[49m\u001b[38;5;241;43m.\u001b[39;49m\u001b[43mhandle_request\u001b[49m\u001b[43m(\u001b[49m\u001b[43mrequest\u001b[49m\u001b[43m)\u001b[49m\n\u001b[1;32m   1029\u001b[0m \u001b[38;5;28;01massert\u001b[39;00m \u001b[38;5;28misinstance\u001b[39m(response\u001b[38;5;241m.\u001b[39mstream, SyncByteStream)\n\u001b[1;32m   1031\u001b[0m response\u001b[38;5;241m.\u001b[39mrequest \u001b[38;5;241m=\u001b[39m request\n",
      "File \u001b[0;32m~/Coding/Projects/website_to_rag/.venv/lib/python3.13/site-packages/httpx/_transports/default.py:235\u001b[0m, in \u001b[0;36mHTTPTransport.handle_request\u001b[0;34m(self, request)\u001b[0m\n\u001b[1;32m    221\u001b[0m \u001b[38;5;28;01massert\u001b[39;00m \u001b[38;5;28misinstance\u001b[39m(request\u001b[38;5;241m.\u001b[39mstream, SyncByteStream)\n\u001b[1;32m    223\u001b[0m req \u001b[38;5;241m=\u001b[39m httpcore\u001b[38;5;241m.\u001b[39mRequest(\n\u001b[1;32m    224\u001b[0m     method\u001b[38;5;241m=\u001b[39mrequest\u001b[38;5;241m.\u001b[39mmethod,\n\u001b[1;32m    225\u001b[0m     url\u001b[38;5;241m=\u001b[39mhttpcore\u001b[38;5;241m.\u001b[39mURL(\n\u001b[0;32m   (...)\u001b[0m\n\u001b[1;32m    233\u001b[0m     extensions\u001b[38;5;241m=\u001b[39mrequest\u001b[38;5;241m.\u001b[39mextensions,\n\u001b[1;32m    234\u001b[0m )\n\u001b[0;32m--> 235\u001b[0m \u001b[38;5;28;01mwith\u001b[39;00m map_httpcore_exceptions():\n\u001b[1;32m    236\u001b[0m     resp \u001b[38;5;241m=\u001b[39m \u001b[38;5;28mself\u001b[39m\u001b[38;5;241m.\u001b[39m_pool\u001b[38;5;241m.\u001b[39mhandle_request(req)\n\u001b[1;32m    238\u001b[0m \u001b[38;5;28;01massert\u001b[39;00m \u001b[38;5;28misinstance\u001b[39m(resp\u001b[38;5;241m.\u001b[39mstream, typing\u001b[38;5;241m.\u001b[39mIterable)\n",
      "File \u001b[0;32m~/.local/share/uv/python/cpython-3.13.1-macos-aarch64-none/lib/python3.13/contextlib.py:162\u001b[0m, in \u001b[0;36m_GeneratorContextManager.__exit__\u001b[0;34m(self, typ, value, traceback)\u001b[0m\n\u001b[1;32m    160\u001b[0m     value \u001b[38;5;241m=\u001b[39m typ()\n\u001b[1;32m    161\u001b[0m \u001b[38;5;28;01mtry\u001b[39;00m:\n\u001b[0;32m--> 162\u001b[0m     \u001b[38;5;28;43mself\u001b[39;49m\u001b[38;5;241;43m.\u001b[39;49m\u001b[43mgen\u001b[49m\u001b[38;5;241;43m.\u001b[39;49m\u001b[43mthrow\u001b[49m\u001b[43m(\u001b[49m\u001b[43mvalue\u001b[49m\u001b[43m)\u001b[49m\n\u001b[1;32m    163\u001b[0m \u001b[38;5;28;01mexcept\u001b[39;00m \u001b[38;5;167;01mStopIteration\u001b[39;00m \u001b[38;5;28;01mas\u001b[39;00m exc:\n\u001b[1;32m    164\u001b[0m     \u001b[38;5;66;03m# Suppress StopIteration *unless* it's the same exception that\u001b[39;00m\n\u001b[1;32m    165\u001b[0m     \u001b[38;5;66;03m# was passed to throw().  This prevents a StopIteration\u001b[39;00m\n\u001b[1;32m    166\u001b[0m     \u001b[38;5;66;03m# raised inside the \"with\" statement from being suppressed.\u001b[39;00m\n\u001b[1;32m    167\u001b[0m     \u001b[38;5;28;01mreturn\u001b[39;00m exc \u001b[38;5;129;01mis\u001b[39;00m \u001b[38;5;129;01mnot\u001b[39;00m value\n",
      "File \u001b[0;32m~/Coding/Projects/website_to_rag/.venv/lib/python3.13/site-packages/httpx/_transports/default.py:89\u001b[0m, in \u001b[0;36mmap_httpcore_exceptions\u001b[0;34m()\u001b[0m\n\u001b[1;32m     86\u001b[0m     \u001b[38;5;28;01mraise\u001b[39;00m\n\u001b[1;32m     88\u001b[0m message \u001b[38;5;241m=\u001b[39m \u001b[38;5;28mstr\u001b[39m(exc)\n\u001b[0;32m---> 89\u001b[0m \u001b[38;5;28;01mraise\u001b[39;00m mapped_exc(message) \u001b[38;5;28;01mfrom\u001b[39;00m\u001b[38;5;250m \u001b[39m\u001b[38;5;21;01mexc\u001b[39;00m\n",
      "\u001b[0;31mConnectError\u001b[0m: [Errno 8] nodename nor servname provided, or not known"
     ]
    }
   ],
   "source": [
    "Image(graph.mermaid_image(start_node=Ask))"
   ]
  },
  {
   "cell_type": "code",
   "execution_count": 28,
   "metadata": {},
   "outputs": [],
   "source": [
    "agent = create_retrieval_agent(\n",
    "    OpenAIModel(model_name=\"qwen2.5:7b\", base_url=\"http://localhost:11434/v1\")\n",
    ")"
   ]
  },
  {
   "cell_type": "code",
   "execution_count": 95,
   "metadata": {},
   "outputs": [],
   "source": [
    "result = agent.run(\n",
    "    \"Where were the olympics held in 2012?\",\n",
    "    deps=RetrievalDeps(\n",
    "        embedded_webpages=[], embedding_model=OllamaEmbedder(\"nomic-embed-text\")\n",
    "    ),\n",
    ")"
   ]
  },
  {
   "cell_type": "code",
   "execution_count": 96,
   "metadata": {},
   "outputs": [
    {
     "name": "stderr",
     "output_type": "stream",
     "text": [
      "INFO:httpx:HTTP Request: POST http://localhost:11434/v1/chat/completions \"HTTP/1.1 200 OK\"\n",
      "INFO:httpx:HTTP Request: POST http://127.0.0.1:11434/api/embeddings \"HTTP/1.1 200 OK\"\n",
      "INFO:httpx:HTTP Request: POST http://localhost:11434/v1/chat/completions \"HTTP/1.1 200 OK\"\n",
      "INFO:httpx:HTTP Request: POST http://127.0.0.1:11434/api/embeddings \"HTTP/1.1 200 OK\"\n",
      "INFO:httpx:HTTP Request: POST http://localhost:11434/v1/chat/completions \"HTTP/1.1 200 OK\"\n"
     ]
    }
   ],
   "source": [
    "data = await result"
   ]
  },
  {
   "cell_type": "code",
   "execution_count": 97,
   "metadata": {},
   "outputs": [
    {
     "data": {
      "text/plain": [
       "NoRelevantData()"
      ]
     },
     "execution_count": 97,
     "metadata": {},
     "output_type": "execute_result"
    }
   ],
   "source": [
    "data.data"
   ]
  },
  {
   "cell_type": "code",
   "execution_count": 30,
   "metadata": {},
   "outputs": [
    {
     "name": "stderr",
     "output_type": "stream",
     "text": [
      "INFO:httpx:HTTP Request: POST http://127.0.0.1:11434/api/embeddings \"HTTP/1.1 200 OK\"\n"
     ]
    }
   ],
   "source": [
    "response = ollama.embeddings(\n",
    "    model=\"nomic-embed-text\", prompt=\"The sky is blue because of rayleigh scattering\"\n",
    ")"
   ]
  },
  {
   "cell_type": "code",
   "execution_count": 29,
   "metadata": {},
   "outputs": [
    {
     "data": {
      "text/plain": [
       "EmbeddingsResponse(embedding=[0.5889952182769775, 0.400834858417511, -3.303218126296997, -0.525968074798584, 0.7489901781082153, 1.5185997486114502, -0.1251041144132614, 0.39591342210769653, 0.06778016686439514, -1.1088330745697021, 0.6926167011260986, 1.2775923013687134, 1.146063208580017, 1.089024543762207, 0.2504419982433319, 0.2928600311279297, 0.1518256962299347, -0.6344521045684814, -0.2100622057914734, -0.1958126723766327, -1.7958611249923706, -0.6291590332984924, 0.03886444866657257, -0.6687489748001099, 1.26125967502594, 1.2771027088165283, -0.15987950563430786, -0.0024411454796791077, -0.29727184772491455, -0.4807409644126892, 1.2050529718399048, -0.6383835077285767, -0.5400329828262329, -1.0354485511779785, 0.6314492225646973, -1.208990454673767, 0.6834062337875366, -0.058553166687488556, -0.19721460342407227, 0.12762127816677094, -0.014400124549865723, -0.5544140934944153, 0.3516940772533417, 0.04494372010231018, 0.597441554069519, -0.9552484154701233, 0.5079353451728821, 1.573683261871338, -0.7144521474838257, -0.3839804530143738, -0.6684503555297852, 1.1406631469726562, -0.1032809391617775, -1.9468417167663574, 0.46577948331832886, 1.434403896331787, 0.5057088136672974, -0.34282442927360535, 0.49586087465286255, 0.08564513176679611, 1.3474369049072266, 1.8000218868255615, 0.08794575929641724, 1.105897068977356, 1.3011356592178345, -0.9272467494010925, -1.1384233236312866, -0.18439459800720215, 0.19523465633392334, -0.33015915751457214, 1.4762741327285767, -1.2717468738555908, 0.06278833746910095, 0.7972274422645569, -0.5998786091804504, -1.1091337203979492, -1.315868854522705, 0.41742199659347534, -0.10787515342235565, 1.0673754215240479, 0.3331437110900879, 0.43720051646232605, 0.460549533367157, 0.22172214090824127, 1.202661395072937, 0.6126821041107178, 0.7441838979721069, -0.35349369049072266, -0.30265095829963684, -0.1326194852590561, 0.1719445288181305, -0.5781810283660889, 1.419042706489563, 0.20177921652793884, -0.44759178161621094, -0.12401627004146576, -0.6138889789581299, 1.46370267868042, -1.345659852027893, -0.6455036997795105, -1.181876540184021, -0.5079385638237, -0.9151483774185181, 0.7165893316268921, 1.508551836013794, 0.5306184887886047, -0.23096372187137604, -0.1802193969488144, -0.6041274666786194, -0.9471181035041809, 0.19284284114837646, 0.694563627243042, -0.08623503893613815, 0.043132998049259186, -0.21420806646347046, -1.4151763916015625, 0.09261810034513474, -0.8737861514091492, 0.24441924691200256, 1.9964008331298828, 0.886935293674469, -0.06941013038158417, 0.08248783648014069, -0.34983405470848083, -0.2094268798828125, 1.0220832824707031, -0.6081801056861877, 0.005504127591848373, 0.26530054211616516, -1.034029245376587, -0.7343127131462097, -0.7609577775001526, -0.09427354484796524, 0.27502429485321045, 0.10562631487846375, 0.4390065670013428, -0.1993451863527298, -0.8409411311149597, 0.13603007793426514, 0.4175626039505005, 0.8088627457618713, 0.45321744680404663, 0.9781262278556824, -0.6692174673080444, -0.11816079914569855, -1.3554071187973022, 0.5879812240600586, -0.02078084647655487, -0.24316884577274323, -0.7183371782302856, -0.5539022088050842, -0.1790355145931244, 0.4157039523124695, 0.6462844610214233, 0.10662691295146942, -1.112367868423462, 0.538793683052063, -0.20016098022460938, 0.5505574941635132, 0.6677271127700806, 1.1019750833511353, 0.4797881841659546, -0.2511080503463745, 0.4728892147541046, -0.48505544662475586, -0.6556002497673035, 1.1186368465423584, 0.8030920028686523, 0.660700798034668, 0.7615206837654114, -1.0933849811553955, -1.6837713718414307, -0.5534836649894714, -0.9302421808242798, -0.05168941989541054, 0.1873444765806198, 1.419775128364563, -0.4553120732307434, 0.18792977929115295, -0.8128076195716858, -0.22760728001594543, -1.3916457891464233, 0.3028237521648407, 0.1596093773841858, 0.5473284721374512, 0.0417444072663784, -1.1713359355926514, -0.8151141405105591, -0.732373833656311, -0.5522847175598145, -0.23269741237163544, -0.5316795110702515, -1.4013302326202393, -0.929074764251709, 0.21267610788345337, -0.48758500814437866, 1.1387271881103516, 1.0102784633636475, 0.3619932234287262, 0.3655811846256256, -0.14229196310043335, -0.31326067447662354, 0.4843249022960663, -0.22268179059028625, 0.23182539641857147, 1.2743961811065674, 0.28055012226104736, 0.9302949905395508, -1.1422404050827026, 0.10020983964204788, 1.2254197597503662, -0.39091044664382935, 0.22676603496074677, -0.1282232701778412, 1.214724063873291, 0.08942071348428726, -0.9715690612792969, -0.021117687225341797, -0.2817193567752838, 1.693806529045105, -0.46246451139450073, 0.36223044991493225, 0.6456626057624817, -0.46611347794532776, 0.8203306794166565, 0.036803826689720154, -0.6308605670928955, 0.14086294174194336, 0.9453497529029846, -0.3508845269680023, 0.20853300392627716, 0.2789732813835144, 0.6884854435920715, 0.7116191387176514, 0.6229190230369568, 0.8252375721931458, 0.442508727312088, 1.1979180574417114, -0.19526530802249908, -0.003343820571899414, -0.8348637819290161, 1.3409334421157837, -1.5042146444320679, 0.2646292448043823, -0.9825187921524048, 1.0001935958862305, -0.4564553499221802, -0.38815197348594666, -0.8302308320999146, -0.005099862813949585, 0.7377513647079468, 0.0965256318449974, 0.6149754524230957, 1.0292249917984009, 0.022934094071388245, -1.6373040676116943, -1.2617154121398926, 0.07366172224283218, -0.06873264908790588, -1.0607857704162598, -0.6643710136413574, -0.8152181506156921, 0.8966032266616821, -1.5422459840774536, -1.250805139541626, 1.157857060432434, -0.5352631211280823, 0.5220385789871216, 0.39202433824539185, -1.517311692237854, 0.6568987369537354, 0.5544335842132568, 0.42697906494140625, 0.2587704062461853, 0.24000996351242065, -0.576251745223999, 0.3669857382774353, -0.6125003099441528, -0.11142590641975403, 0.9324493408203125, -0.34900060296058655, -0.17938023805618286, -0.6886478662490845, -0.20332039892673492, 0.3042357265949249, 0.29508453607559204, 0.5045102834701538, 1.5881357192993164, 0.008351452648639679, 0.9862717390060425, 0.78997802734375, 0.21664929389953613, 0.6580346822738647, 1.6164700984954834, -0.46045035123825073, 0.6937700510025024, 1.3453552722930908, 0.06290806084871292, 0.7119891047477722, -0.8057329654693604, 0.27188313007354736, 0.3818817734718323, 1.0235949754714966, 0.14296722412109375, -0.056051358580589294, 0.2807316780090332, 0.0471823625266552, 0.38492172956466675, 0.47513124346733093, -0.5917040109634399, -0.20799705386161804, 1.194169044494629, -0.5423375368118286, 1.9748504161834717, -0.6879252791404724, 1.1695866584777832, 0.5592526197433472, -0.00746170524507761, 0.6846876740455627, 0.6826596260070801, 0.38532382249832153, -0.6949161291122437, 0.4742431044578552, -0.13237813115119934, 0.5959290266036987, 0.7858481407165527, -0.8966501355171204, 0.973672091960907, -0.8002331852912903, -1.0463849306106567, -0.20787349343299866, 0.5555083751678467, 0.4275079667568207, -0.39995551109313965, -1.4896105527877808, -0.17321041226387024, -0.20161134004592896, -1.1167519092559814, -0.4352666735649109, 1.1480791568756104, 1.2933456897735596, -1.7619102001190186, -0.1555933803319931, -1.0930993556976318, -0.43107277154922485, -0.32242757081985474, -0.11975308507680893, -0.2269601970911026, 0.5594971179962158, -0.3251730799674988, -0.35535871982574463, 0.1284521371126175, 0.14933925867080688, -0.2578388750553131, -0.5038620233535767, 0.31383225321769714, -0.5569280385971069, 0.5346313118934631, 0.9154433012008667, -0.0031594587489962578, 0.21394121646881104, -1.0350656509399414, -0.20505724847316742, -0.2844781279563904, -0.7409240007400513, 0.7576890587806702, 0.18230730295181274, 0.38175660371780396, 0.07819464802742004, -0.25975388288497925, -0.7060725688934326, -0.2683151960372925, -0.8523180484771729, 1.0905444622039795, 0.26726794242858887, 0.1920979768037796, -0.6474623680114746, -1.2455716133117676, 0.43758296966552734, 0.1880672574043274, -0.5123719573020935, 0.6859259605407715, 0.02074424922466278, 0.4475820064544678, -0.01610104739665985, 0.36095184087753296, -0.4910309910774231, -1.1477200984954834, -0.4688933491706848, -0.6143255829811096, -0.2527371346950531, -1.2237180471420288, -0.39796769618988037, -0.0359511636197567, 0.35743457078933716, -1.300304889678955, 1.1131534576416016, -0.489018052816391, -0.4506208002567291, 0.42661210894584656, -0.5518884658813477, -0.7596777677536011, -0.4887450933456421, -1.2190020084381104, -0.036911994218826294, 0.6086491346359253, -0.1580495983362198, -1.5303295850753784, 1.13010573387146, 0.9363730549812317, 0.5175522565841675, 0.7948643565177917, -0.1496075689792633, -2.242765188217163, -0.00848814845085144, 0.038821734488010406, 0.43517452478408813, 0.07026732712984085, 0.3698366582393646, 0.2783644199371338, 1.4759879112243652, 1.0896302461624146, 0.18811142444610596, -0.43624284863471985, 0.929506242275238, 0.36055809259414673, 0.22189229726791382, 0.544243335723877, 0.41940534114837646, -1.0682260990142822, 0.05302385240793228, -0.22165709733963013, -0.42377322912216187, -0.23376387357711792, -1.2037041187286377, 0.5265589952468872, -0.3528095483779907, -0.1923782080411911, 0.2944072484970093, 1.7013083696365356, 1.1243808269500732, -1.4265861511230469, -0.589968204498291, -1.2266888618469238, 1.4710803031921387, 2.4343481063842773, 0.30092209577560425, -2.2066402435302734, -0.8143924474716187, 0.39463064074516296, -0.37004539370536804, -1.0265512466430664, 0.8726014494895935, 1.6583235263824463, 1.8533763885498047, -0.12056334316730499, -0.5753450393676758, 0.4766336679458618, 1.0805610418319702, 1.7736719846725464, 0.6120859384536743, 0.14111223816871643, -0.1420658677816391, -0.07642045617103577, 0.2857500910758972, -0.2503465414047241, -0.15443310141563416, -0.13354338705539703, 0.13078290224075317, 0.6594734191894531, -1.1299937963485718, -0.2289690226316452, 0.3614448308944702, -0.6924498081207275, -1.2147996425628662, 0.08956906944513321, -1.4317748546600342, -0.06784655153751373, 0.715114414691925, 1.1367831230163574, 0.4702898859977722, 0.7384785413742065, -0.31047287583351135, -0.9133286476135254, -0.5673164129257202, 1.638484239578247, 0.19208747148513794, 0.3461838364601135, 0.3316986858844757, -0.6187998056411743, 0.5655838251113892, -0.7134792804718018, 0.21738457679748535, -0.1946931630373001, 0.46996980905532837, -0.3610408306121826, 0.2681048512458801, -0.55107581615448, 0.06627050042152405, 0.05104351043701172, 0.050081461668014526, 0.4440150558948517, 0.5052458643913269, 0.3844691514968872, -0.5539984703063965, 0.38650819659233093, 0.7191379070281982, -0.7915123701095581, -0.2887681722640991, 1.2793095111846924, -0.4976820647716522, -1.692526936531067, 1.5121779441833496, 0.18739596009254456, -0.07547208666801453, -1.034654140472412, -0.3289602994918823, 0.9250776767730713, -0.523444414138794, -0.268653929233551, 0.5534833669662476, -0.6307858228683472, -0.41577625274658203, 0.19309353828430176, -0.8583837747573853, 1.1181145906448364, -0.061225034296512604, -0.7616397142410278, 0.4636724293231964, 0.34103354811668396, 0.03837578743696213, 0.2535780668258667, -0.6399550437927246, -0.7191523313522339, 0.6758990287780762, -0.4950653314590454, -0.296011358499527, 0.993718147277832, -0.0030455738306045532, 0.8925611972808838, 0.02133042737841606, 0.5073641538619995, 0.45793086290359497, -0.008429393172264099, -0.25979745388031006, 0.23544055223464966, -1.412463665008545, 0.3338247835636139, 1.3774538040161133, -0.41763633489608765, 0.6499457955360413, -0.9172835350036621, 0.5229239463806152, 0.2492600679397583, 1.179825782775879, -0.5507059693336487, 0.1324303150177002, -0.35020512342453003, -1.1853697299957275, 0.11250848323106766, 0.11727862060070038, 0.2789599895477295, 0.19207409024238586, 0.17918145656585693, 1.1082894802093506, -1.3915643692016602, -0.029884256422519684, 0.4548981189727783, 0.3754989504814148, 0.01442173682153225, -0.03860066086053848, -0.4012218415737152, -0.5223996043205261, -0.5277892351150513, -0.14047276973724365, 0.3534935414791107, 0.20152223110198975, 0.12643791735172272, -1.0576601028442383, -0.44753751158714294, 1.177311897277832, 0.06077472120523453, 1.1562983989715576, -0.04934559017419815, -0.3208383321762085, -0.4663229286670685, 0.23073098063468933, -1.1258256435394287, 1.7587569952011108, -1.0143389701843262, -0.4612411856651306, -0.2589426338672638, -0.5993760824203491, -0.8190714120864868, -0.270070344209671, -1.0814893245697021, -0.26424098014831543, -0.9886119961738586, -1.813240885734558, -0.07202669978141785, 0.45016467571258545, -0.7356163859367371, 1.054279088973999, -1.0224905014038086, 0.325408935546875, 0.3814983665943146, -0.10136464238166809, -0.9652016162872314, 0.34766536951065063, -0.29536840319633484, 0.36964792013168335, -0.4140263497829437, 0.1237836703658104, -0.17629334330558777, 0.07433848083019257, -1.2883853912353516, 1.3648946285247803, -0.07206913083791733, 0.7136881351470947, -2.0174503326416016, -0.1302419900894165, -1.9633694887161255, 0.371839702129364, -1.1129982471466064, 1.1656999588012695, -0.9572461843490601, -1.1603833436965942, -1.1154271364212036, 0.7975207567214966, 0.7251645922660828, -0.07346990704536438, 0.8203223943710327, -0.24908478558063507, -0.3987477421760559, -0.06224612146615982, 0.43025678396224976, -0.2270594835281372, 0.6409519910812378, 0.5950704216957092, 0.5155028104782104, 0.29377439618110657, 1.0160207748413086, 0.3499002158641815, -0.4350771903991699, 1.0094304084777832, -0.15761801600456238, 1.1751625537872314, -0.463469535112381, 0.03790019825100899, -0.8857571482658386, 1.2896308898925781, 0.7264615893363953, 0.551243007183075, -0.9666152000427246, 0.6103508472442627, -0.48071879148483276, 0.5408378839492798, 0.14769233763217926, -0.46940749883651733, -2.0690791606903076, -1.056749701499939, -0.09914214164018631, -2.173828363418579, 0.1817241907119751, 0.6777351498603821, -0.5407347679138184, 0.28693559765815735, -0.5595383048057556, -1.7818254232406616, 0.13341031968593597, -0.8158148527145386, 0.5437477231025696, -0.42699819803237915, -0.4502588212490082, -0.015172451734542847, -0.2371406853199005, 0.42517903447151184, 0.8464575409889221, 0.5116036534309387, -0.07652835547924042, 0.9349651336669922, 0.9128145575523376, -0.3029972314834595, -0.2678121328353882, -0.3084738850593567, -0.2101757526397705, -0.4193318486213684, -0.2834550142288208, 0.6266996264457703, -2.4670774936676025, 0.43906283378601074, 0.395980566740036, -1.257521152496338, -1.5570526123046875, 0.49145394563674927, -0.6949058771133423, 0.3415585160255432, -0.6440941691398621, 0.4060429334640503, -0.40105968713760376, -1.1727584600448608, -0.11230312287807465, 0.37870892882347107, 0.8455978035926819, 0.13373854756355286, -0.9432815313339233, 0.48517829179763794, -0.44858190417289734, -0.21650660037994385, -0.08178204298019409, -0.3080960810184479, 0.5722822546958923, 0.3540562689304352, 0.9979231357574463, 0.11043664813041687, 0.37906670570373535, -0.10485928505659103, 0.26833057403564453, -0.6076056361198425, 1.017063856124878, 0.8139010667800903, -0.3680005371570587, -0.6228148937225342, -1.4592864513397217, -0.04069522023200989, -0.4183160662651062, 0.6585699915885925, -1.460315465927124, -0.09710000455379486, -0.6563217639923096, 0.11067850142717361, 1.0152454376220703, -0.25670698285102844, 0.5036659836769104, -0.34933799505233765, -0.8152117729187012, -0.5785049796104431, 0.1412946581840515, -0.0448966845870018, -0.3052632212638855, -1.299404501914978, 0.24273625016212463, 0.20233285427093506, 0.3299390971660614, 0.01754903793334961, -0.4538314938545227, 0.29641690850257874, 0.5283516645431519, 1.4787787199020386, -0.3651014566421509, 0.44651472568511963, 0.22815333306789398, -0.16126812994480133, 0.34828922152519226, 0.4269363582134247, 0.6886749267578125, 0.4372551441192627, -0.02187398076057434, 2.035310745239258, -0.05368230491876602, 0.45849478244781494, -0.2189367264509201, 0.34107649326324463, 0.7078362703323364, -1.1495996713638306, -0.14720606803894043, -0.5514278411865234, 0.4689069986343384])"
      ]
     },
     "execution_count": 29,
     "metadata": {},
     "output_type": "execute_result"
    }
   ],
   "source": [
    "response"
   ]
  },
  {
   "cell_type": "code",
   "execution_count": null,
   "metadata": {},
   "outputs": [],
   "source": []
  },
  {
   "cell_type": "code",
   "execution_count": null,
   "metadata": {},
   "outputs": [],
   "source": []
  }
 ],
 "metadata": {
  "kernelspec": {
   "display_name": ".venv",
   "language": "python",
   "name": "python3"
  },
  "language_info": {
   "codemirror_mode": {
    "name": "ipython",
    "version": 3
   },
   "file_extension": ".py",
   "mimetype": "text/x-python",
   "name": "python",
   "nbconvert_exporter": "python",
   "pygments_lexer": "ipython3",
   "version": "3.13.1"
  }
 },
 "nbformat": 4,
 "nbformat_minor": 2
}
