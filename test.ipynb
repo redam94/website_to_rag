{
 "cells": [
  {
   "cell_type": "code",
   "execution_count": 37,
   "metadata": {},
   "outputs": [],
   "source": [
    "from __future__ import annotations as _annotations\n",
    "\n",
    "import numpy as np\n",
    "from website_to_rag.agents.webcrawl_agent import search_agent\n",
    "from website_to_rag.utils.webpage_extractor import embed_webpage, WebPage, Section\n",
    "from typing import Set\n",
    "from pydantic_graph import BaseNode, Edge, End, Graph, GraphRunContext, HistoryStep\n",
    "from pydantic_ai import Agent, RunContext\n",
    "from pydantic_ai.format_as_xml import format_as_xml\n",
    "from pydantic_ai.messages import ModelMessage\n",
    "from dataclasses import dataclass, field\n",
    "from rich.prompt import Prompt"
   ]
  },
  {
   "cell_type": "code",
   "execution_count": 38,
   "metadata": {},
   "outputs": [],
   "source": [
    "@dataclass\n",
    "class State:\n",
    "    user_query: str\n",
    "    retrieval_tries: int = 0\n",
    "    retrieval_agent_history: list[ModelMessage] = field(default_factory=set)\n",
    "    unused_urls: Set[str] = field(default_factory=set)\n",
    "    searched_urls: Set[str] = field(default_factory=set)\n",
    "    unembedded_webpages: list[WebPage] = field(default_factory=list)\n",
    "    embedded_webpages: list[tuple(WebPage, Section, list[list[float]])] = field(default_factory=list)\n",
    "\n",
    "@dataclass\n",
    "class Ask(BaseNode[State]):\n",
    "    async def run(self, ctx: GraphRunContext[State]) -> Retrieval:\n",
    "        ctx.state.user_query = Prompt.ask(\"What can I help you with?\")\n",
    "        return Retrieval\n",
    "\n",
    "@dataclass\n",
    "class RetrievalResult:\n",
    "    top_5_results: list[str]\n",
    "\n",
    "@dataclass\n",
    "class NoRelevantData:\n",
    "    ...\n",
    "\n",
    "@dataclass\n",
    "class RetrievalDeps:\n",
    "    embedded_webpages: list[tuple(WebPage, Section, list[list[float]])]\n",
    "\n",
    "retrieval_agent = Agent[RetrievalDeps, RetrievalResult|NoRelevantData](\n",
    "    'openai:gpt-4o-mini',\n",
    "    result_type=RetrievalResult|NoRelevantData,\n",
    "    deps_type=RetrievalDeps,\n",
    "    system_prompt=(\n",
    "        \"Given a user query use the `retrieval_tool` to search websites in memory for information relevant to answer the user's question. \"\n",
    "        \"If the information recieved is not relevant to the user's query try changing the prompt you give to the retrieval tool. \"\n",
    "        \"If there still doesn't appear to be relevant information return 'NoRelevantData'\"\n",
    "    ) \n",
    ")\n",
    "\n",
    "@retrieval_agent.tool\n",
    "async def retrieval_tool(ctx: RunContext[RetrievalDeps], prompt):\n",
    "    ..."
   ]
  },
  {
   "cell_type": "code",
   "execution_count": null,
   "metadata": {},
   "outputs": [],
   "source": []
  }
 ],
 "metadata": {
  "kernelspec": {
   "display_name": ".venv",
   "language": "python",
   "name": "python3"
  },
  "language_info": {
   "codemirror_mode": {
    "name": "ipython",
    "version": 3
   },
   "file_extension": ".py",
   "mimetype": "text/x-python",
   "name": "python",
   "nbconvert_exporter": "python",
   "pygments_lexer": "ipython3",
   "version": "3.13.1"
  }
 },
 "nbformat": 4,
 "nbformat_minor": 2
}
